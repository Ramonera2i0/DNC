{
  "nbformat": 4,
  "nbformat_minor": 0,
  "metadata": {
    "colab": {
      "provenance": [],
      "authorship_tag": "ABX9TyPUQLYX55wn9M+O422Qt+SD",
      "include_colab_link": true
    },
    "kernelspec": {
      "name": "python3",
      "display_name": "Python 3"
    },
    "language_info": {
      "name": "python"
    }
  },
  "cells": [
    {
      "cell_type": "markdown",
      "metadata": {
        "id": "view-in-github",
        "colab_type": "text"
      },
      "source": [
        "<a href=\"https://colab.research.google.com/github/Ramonera2i0/DNC/blob/main/Escolha_o_que_quiser_no_cardapio.ipynb\" target=\"_parent\"><img src=\"https://colab.research.google.com/assets/colab-badge.svg\" alt=\"Open In Colab\"/></a>"
      ]
    },
    {
      "cell_type": "code",
      "execution_count": null,
      "metadata": {
        "colab": {
          "base_uri": "https://localhost:8080/"
        },
        "id": "xEhNLN7TDL7u",
        "outputId": "9ec95635-2d4a-434d-fe99-65348637311c"
      },
      "outputs": [
        {
          "output_type": "stream",
          "name": "stdout",
          "text": [
            "----------------------------------------\n",
            "--------------- Cardápio ---------------\n",
            "----------------------------------------\n",
            "\n",
            "Salgado.......................: R$  3.50\n",
            "Refri.........................: R$  4.00\n",
            "Batata........................: R$  8.50\n",
            "Bombom........................: R$  1.50\n",
            "Pizza.........................: R$ 29.90\n",
            "Feijoada......................: R$ 18.90\n",
            "Pudim.........................: R$ 12.49\n",
            "Salada........................: R$ 11.50\n",
            "MegaBurguer...................: R$ 23.49\n",
            "\n",
            "Qual item você dejesa? >> Batata\n",
            "Quantos você deseja incluir? >> d\n",
            "Você não digitou um numero valido, por favor digite novamente.\n",
            "\n",
            "Quantos você deseja incluir? >> 2\n",
            "\n",
            "você deseja acrescentar mais itens? s/n >>l\n",
            "\n",
            "por favor digite *s* para sim e *n* para não.\n",
            "você deseja acrescentar mais itens? s/n >>n\n",
            "\n",
            "\n",
            "\n",
            "valor total da sua compra é: R$   17.00\n"
          ]
        }
      ],
      "source": [
        "cardapio = ['Salgado','Refri','Batata','Bombom','Pizza','Feijoada','Pudim','Salada','MegaBurguer']\n",
        "preco = [3.5,4,8.5,1.5,29.9,18.9,12.49,11.5,23.49]\n",
        "print('-'*40)\n",
        "\n",
        "print('-'*15,'Cardápio','-'*15)\n",
        "print('-'*40)\n",
        "print()\n",
        "\n",
        "for c1,p1 in zip(cardapio,preco):\n",
        "    print('{:.<30}: R${:6.2f}'.format(c1,p1))\n",
        "\n",
        "\n",
        "print()\n",
        "continuar = 's'\n",
        "qtdUsuario = []\n",
        "while continuar == 's':\n",
        "  usuarioCardapio = input('Qual item você dejesa? >> ')\n",
        "\n",
        "  if usuarioCardapio in cardapio:\n",
        "    \n",
        "\n",
        "    while True:\n",
        "      usuarioQtdstr=input('Quantos você deseja incluir? >> ')\n",
        "      if usuarioQtdstr.isnumeric() == True:\n",
        "        print()\n",
        "        usuarioQtd = int(usuarioQtdstr)\n",
        "        break\n",
        "      else:\n",
        "        print('Você não digitou um numero valido, por favor digite novamente.')\n",
        "        print()\n",
        "\n",
        "    qtdUsuario.append(preco[cardapio.index(usuarioCardapio)]*usuarioQtd)\n",
        "    while True:\n",
        "      continuar=input('você deseja acrescentar mais itens? s/n >>')\n",
        "      print()\n",
        "      if continuar == 's':\n",
        "          print()\n",
        "          break\n",
        "      elif continuar == 'n':\n",
        "          print()\n",
        "          break\n",
        "      else:\n",
        "          print('por favor digite *s* para sim e *n* para não.')\n",
        "  else:\n",
        "    print('este item não está no cardapio. Por favor escreva da forma que está no Menu.')\n",
        "    print()\n",
        "\n",
        "print()\n",
        "print('valor total da sua compra é: R${:8.2f}'.format(sum(qtdUsuario)))"
      ]
    }
  ]
}
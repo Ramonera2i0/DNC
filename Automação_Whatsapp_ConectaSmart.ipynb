{
  "nbformat": 4,
  "nbformat_minor": 0,
  "metadata": {
    "colab": {
      "provenance": [],
      "toc_visible": true,
      "authorship_tag": "ABX9TyPpTLNEOWDlgi8gjoDpAuf2",
      "include_colab_link": true
    },
    "kernelspec": {
      "name": "python3",
      "display_name": "Python 3"
    },
    "language_info": {
      "name": "python"
    }
  },
  "cells": [
    {
      "cell_type": "markdown",
      "metadata": {
        "id": "view-in-github",
        "colab_type": "text"
      },
      "source": [
        "<a href=\"https://colab.research.google.com/github/Ramonera2i0/DNC/blob/main/Automa%C3%A7%C3%A3o_Whatsapp_ConectaSmart.ipynb\" target=\"_parent\"><img src=\"https://colab.research.google.com/assets/colab-badge.svg\" alt=\"Open In Colab\"/></a>"
      ]
    },
    {
      "cell_type": "markdown",
      "source": [
        "# Read-Me - Objetivo do projeto\n",
        "Automatizar processo de coleta de dados relacionados a estoque e vendas da ultima semana.\n",
        "*   Inicia Processo\n",
        "*   Busca planilha dentro do google sheets\n",
        "*   Analisa dados e coleta os pontos relevantes\n",
        "*   Formata dados em graficos bonitos para serem compartilhados\n",
        "*   Acessa o Whatsapp e envia a mensagem\n",
        "*   Finaliza Tarefa\n"
      ],
      "metadata": {
        "id": "GA8MamUoFihF"
      }
    },
    {
      "cell_type": "markdown",
      "source": [
        "# Inicio do programa\n",
        "\n"
      ],
      "metadata": {
        "id": "yojFHWFdJ3Ss"
      }
    },
    {
      "cell_type": "markdown",
      "source": [
        "# Acessar Google Sheets para fazer download da planilha"
      ],
      "metadata": {
        "id": "gAMbzki6L0IV"
      }
    },
    {
      "cell_type": "markdown",
      "source": [
        "# Importando planilha"
      ],
      "metadata": {
        "id": "zM-a6hRBL6ih"
      }
    },
    {
      "cell_type": "markdown",
      "source": [
        "# Separando e tratando dados relevantes"
      ],
      "metadata": {
        "id": "1hvyUSkaMJA8"
      }
    },
    {
      "cell_type": "markdown",
      "source": [
        "# Formatação dos dados para envio"
      ],
      "metadata": {
        "id": "1nCD7QSxMOup"
      }
    },
    {
      "cell_type": "markdown",
      "source": [
        "# Salvando dados para compartilhar"
      ],
      "metadata": {
        "id": "7NdX2ZmUMZtE"
      }
    },
    {
      "cell_type": "markdown",
      "source": [
        "# Acessando Whatsapp"
      ],
      "metadata": {
        "id": "O4deH4KLMgSI"
      }
    },
    {
      "cell_type": "markdown",
      "source": [
        "# Enviando mensagem"
      ],
      "metadata": {
        "id": "v9778_G2Mi8C"
      }
    },
    {
      "cell_type": "markdown",
      "source": [
        "# Processo concluído"
      ],
      "metadata": {
        "id": "NSKT1Ki-Mmfs"
      }
    },
    {
      "cell_type": "code",
      "execution_count": null,
      "metadata": {
        "id": "GJVeBp2dFZwd"
      },
      "outputs": [],
      "source": []
    }
  ]
}